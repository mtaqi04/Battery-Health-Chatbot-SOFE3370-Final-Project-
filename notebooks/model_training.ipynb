{
 "cells": [
  {
   "cell_type": "markdown",
   "metadata": {},
   "source": [
    "# 🤖 Notebook: model_training.ipynb\n",
    "\n",
    "**Goal:** Train and evaluate a Linear Regression baseline.\n",
    "\n",
    "### Include\n",
    "- Load `data/cleaned_pulsebat.csv`\n",
    "- Train/test split\n",
    "- Fit `LinearRegression`\n",
    "- Metrics: R², MSE, MAE\n",
    "- Plot: Predicted vs Actual SOH\n",
    "- Save model to `models/soh_linear_model.pkl` (joblib)\n",
    "\n",
    "### Deliverable\n",
    "- Saved model + performance plots\n"
   ]
  },
  {
   "cell_type": "code",
   "execution_count": 2,
   "id": "a1febee9",
   "metadata": {},
   "outputs": [
    {
     "name": "stdout",
     "output_type": "stream",
     "text": [
      "Loading data from: ../data/cleaned_pulsebat.csv\n",
      "Shapes → X_train: (536, 21), X_test: (134, 21), y_train: (536,), y_test: (134,)\n",
      "✅ Model trained.\n",
      "Intercept: 4.86392140717598\n",
      "Coefficients (len): 21\n",
      "💾 Saved model → ../models/soh_linear_model.pkl\n"
     ]
    }
   ],
   "source": [
    "# Task 1 – Train Linear Regression Model\n",
    "# --------------------------------------\n",
    "import os\n",
    "import pandas as pd\n",
    "from sklearn.model_selection import train_test_split\n",
    "from sklearn.linear_model import LinearRegression\n",
    "import joblib\n",
    "\n",
    "# --- Resolve paths whether running from project root or /notebooks ---\n",
    "if os.path.basename(os.getcwd()) == \"notebooks\":\n",
    "    DATA_PATH = \"../data/cleaned_pulsebat.csv\"\n",
    "    MODEL_DIR = \"../models\"\n",
    "else:\n",
    "    DATA_PATH = \"data/cleaned_pulsebat.csv\"\n",
    "    MODEL_DIR = \"models\"\n",
    "\n",
    "print(\"Loading data from:\", DATA_PATH)\n",
    "\n",
    "# 1) Load cleaned dataset\n",
    "df = pd.read_csv(DATA_PATH)\n",
    "\n",
    "# 2) Separate features (U1–U21) and target (SOH)\n",
    "feature_cols = [f\"U{i}\" for i in range(1, 22)]\n",
    "target_col = \"SOH\"\n",
    "\n",
    "X = df[feature_cols].values\n",
    "y = df[target_col].values\n",
    "\n",
    "# 3) Train/test split\n",
    "X_train, X_test, y_train, y_test = train_test_split(\n",
    "    X, y, test_size=0.2, random_state=42\n",
    ")\n",
    "\n",
    "print(f\"Shapes → X_train: {X_train.shape}, X_test: {X_test.shape}, \"\n",
    "      f\"y_train: {y_train.shape}, y_test: {y_test.shape}\")\n",
    "\n",
    "# 4) Train Linear Regression\n",
    "model = LinearRegression()\n",
    "model.fit(X_train, y_train)\n",
    "\n",
    "print(\"✅ Model trained.\")\n",
    "print(\"Intercept:\", model.intercept_)\n",
    "print(\"Coefficients (len):\", len(model.coef_))\n",
    "\n",
    "# 5) (Optional here) Save the trained model for later steps\n",
    "os.makedirs(MODEL_DIR, exist_ok=True)\n",
    "model_path = os.path.join(MODEL_DIR, \"soh_linear_model.pkl\")\n",
    "joblib.dump(model, model_path)\n",
    "print(f\"💾 Saved model → {model_path}\")\n"
   ]
  }
 ],
 "metadata": {
  "kernelspec": {
   "display_name": "Python 3",
   "language": "python",
   "name": "python3"
  },
  "language_info": {
   "codemirror_mode": {
    "name": "ipython",
    "version": 3
   },
   "file_extension": ".py",
   "mimetype": "text/x-python",
   "name": "python",
   "nbconvert_exporter": "python",
   "pygments_lexer": "ipython3",
   "version": "3.13.2"
  }
 },
 "nbformat": 4,
 "nbformat_minor": 5
}
