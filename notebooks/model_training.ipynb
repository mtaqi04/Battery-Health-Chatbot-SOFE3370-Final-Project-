{
 "cells": [
  {
   "cell_type": "markdown",
   "metadata": {},
   "source": [
    "# 🤖 Notebook: model_training.ipynb\n",
    "\n",
    "**Goal:** Train and evaluate a Linear Regression baseline.\n",
    "\n",
    "### Include\n",
    "- Load `data/cleaned_pulsebat.csv`\n",
    "- Train/test split\n",
    "- Fit `LinearRegression`\n",
    "- Metrics: R², MSE, MAE\n",
    "- Plot: Predicted vs Actual SOH\n",
    "- Save model to `models/soh_linear_model.pkl` (joblib)\n",
    "\n",
    "### Deliverable\n",
    "- Saved model + performance plots\n"
   ]
  }
 ],
 "metadata": {
  "kernelspec": {"display_name":"Python 3","language":"python","name":"python3"},
  "language_info": {"name":"python","version":"3.10"}
 },
 "nbformat": 4,
 "nbformat_minor": 5
}
