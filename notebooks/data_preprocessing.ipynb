{
 "cells": [
  {
   "cell_type": "markdown",
   "metadata": {},
   "source": [
    "# 🧹 Notebook: data_preprocessing.ipynb\n",
    "\n",
    "**Goal:** Clean & explore PulseBat data.\n",
    "\n",
    "### Include\n",
    "- Load `data/PulseBat Dataset.xlsx`\n",
    "- Select features U1–U21 and target SOH\n",
    "- Handle missing/abnormal values\n",
    "- Basic sanity checks (SOH in [0,1])\n",
    "- Scaling/normalization decision + rationale\n",
    "- Visuals: SOH histogram, correlation heatmap\n",
    "- Save `data/cleaned_pulsebat.csv`\n",
    "\n",
    "### Deliverable\n",
    "- Clean subset CSV + figures for report\n"
   ]
  }
 ],
 "metadata": {
  "kernelspec": {"display_name":"Python 3","language":"python","name":"python3"},
  "language_info": {"name":"python","version":"3.10"}
 },
 "nbformat": 4,
 "nbformat_minor": 5
}
