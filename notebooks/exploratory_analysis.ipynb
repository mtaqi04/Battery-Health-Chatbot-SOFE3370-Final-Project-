{
 "cells": [
  {
   "cell_type": "markdown",
   "metadata": {},
   "source": [
    "# 🔎 Notebook: exploratory_analysis.ipynb (optional)\n",
    "\n",
    "**Goal:** Early EDA for intuition and reporting visuals.**\n",
    "\n",
    "### Include\n",
    "- Distributions & boxplots of U1–U21\n",
    "- Pairwise correlations with SOH\n",
    "- Notes on feature importance intuition (non-binding)\n"
   ]
  }
 ],
 "metadata": {
  "kernelspec": {"display_name":"Python 3","language":"python","name":"python3"},
  "language_info": {"name":"python","version":"3.10"}
 },
 "nbformat": 4,
 "nbformat_minor": 5
}
