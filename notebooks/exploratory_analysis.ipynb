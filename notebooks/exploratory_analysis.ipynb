{
 "cells": [
  {
   "cell_type": "markdown",
   "id": "2c9ae23e",
   "metadata": {},
   "source": [
    "# 🔎 Notebook: exploratory_analysis.ipynb (optional)\n",
    "\n",
    "**Goal:** Early EDA for intuition and reporting visuals.**\n",
    "\n",
    "### Include\n",
    "- Distributions & boxplots of U1–U21\n",
    "- Pairwise correlations with SOH\n",
    "- Notes on feature importance intuition (non-binding)\n"
   ]
  }
 ],
 "metadata": {
  "kernelspec": {
   "display_name": "Python 3 (ipykernel)",
   "language": "python",
   "name": "python3"
  },
  "language_info": {
   "codemirror_mode": {
    "name": "ipython",
    "version": 3
   },
   "file_extension": ".py",
   "mimetype": "text/x-python",
   "name": "python",
   "nbconvert_exporter": "python",
   "pygments_lexer": "ipython3",
   "version": "3.11.9"
  }
 },
 "nbformat": 4,
 "nbformat_minor": 5
}
